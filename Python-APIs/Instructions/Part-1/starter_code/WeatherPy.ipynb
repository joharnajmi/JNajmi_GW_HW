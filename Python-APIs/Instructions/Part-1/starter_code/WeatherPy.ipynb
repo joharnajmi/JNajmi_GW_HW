{
 "cells": [
  {
   "cell_type": "markdown",
   "metadata": {},
   "source": [
    "# WeatherPy\n",
    "----\n",
    "\n",
    "#### Note\n",
    "* Instructions have been included for each segment. You do not have to follow them exactly, but they are included to help you think through the steps."
   ]
  },
  {
   "cell_type": "code",
   "execution_count": null,
   "metadata": {
    "scrolled": true
   },
   "outputs": [],
   "source": [
    " # Dependencies and Setup\n",
    "import matplotlib.pyplot as plt\n",
    "import pandas as pd\n",
    "import numpy as np\n",
    "import requests\n",
    "import time\n",
    "\n",
    "# Import API key\n",
    "from api_keys import api_key\n",
    "\n",
    "# Incorporated citipy to determine city based on latitude and longitude\n",
    "from citipy import citipy\n",
    "\n",
    "# Output File (CSV)\n",
    "output_data_file = \"output_data/cities.csv\"\n",
    "\n",
    "# Range of latitudes and longitudes\n",
    "lat_range = (-90, 90)\n",
    "lng_range = (-180, 180)"
   ]
  },
  {
   "cell_type": "markdown",
   "metadata": {},
   "source": [
    "## Generate Cities List"
   ]
  },
  {
   "cell_type": "code",
   "execution_count": null,
   "metadata": {},
   "outputs": [],
   "source": [
    "# List for holding lat_lngs and cities\n",
    "lat_lngs = []\n",
    "cities = []\n",
    "\n",
    "# Create a set of random lat and lng combinations\n",
    "lats = np.random.uniform(low=-90.000, high=90.000, size=1500)\n",
    "lngs = np.random.uniform(low=-180.000, high=180.000, size=1500)\n",
    "lat_lngs = zip(lats, lngs)\n",
    "\n",
    "# Identify nearest city for each lat, lng combination\n",
    "for lat_lng in lat_lngs:\n",
    "    city = citipy.nearest_city(lat_lng[0], lat_lng[1]).city_name\n",
    "    \n",
    "    # If the city is unique, then add it to a our cities list\n",
    "    if city not in cities:\n",
    "        cities.append(city)\n",
    "\n",
    "# Print the city count to confirm sufficient count\n",
    "len(cities)"
   ]
  },
  {
   "cell_type": "markdown",
   "metadata": {},
   "source": [
    "### Perform API Calls\n",
    "* Perform a weather check on each city using a series of successive API calls.\n",
    "* Include a print log of each city as it'sbeing processed (with the city number and city name).\n"
   ]
  },
  {
   "cell_type": "code",
   "execution_count": null,
   "metadata": {},
   "outputs": [],
   "source": [
    "api_key = api_keys.api_key\n",
    "url = \"http://api.openweathermap.org/data/2.5/weather?units=Imperial&APPID=\" + api_key\n",
    "units = \"metric\"\n",
    "lat = []\n",
    "lon=[]\n",
    "temp=[]\n",
    "humidity=[]\n",
    "cloudy =[]\n",
    "windspeed=[]\n",
    "count=0\n",
    "cityname=[]\n",
    "dt=[]\n",
    "query_url = f\"{url}&units={units}&q=\"\n",
    "query_url + city\n",
    "response = requests.get(query_url + city).json()\n",
    "response\n",
    "for city in cities:\n",
    "   try:\n",
    "       response = requests.get(query_url + city).json()\n",
    "       print(f\"{response}\")\n",
    "       lat.append(response['coord']['lat'])\n",
    "       lon.append(response['coord']['lon'])\n",
    "       temp.append(response['main']['temp'])\n",
    "       humidity.append(response['main']['humidity'])\n",
    "       cloudy.append(response['clouds']['all'])\n",
    "       windspeed.append(response['wind']['speed'])\n",
    "       cityname.append(response['name'])\n",
    "       dt.append(response['dt'])\n",
    "       count=count+1\n",
    "       #If an error is experienced, skip the city\n",
    "   except:\n",
    "       print(\"City not found. Skipping...\")\n",
    "print(f\"lat: {lat} {len(lat)}\")\n",
    "print(f\"lon: {lon} {len(lon)}\")\n",
    "print(f\"temp: {temp} {len(temp)}\")\n",
    "print(f\"humidity: {humidity} {len(humidity)}\")\n",
    "print(f\"clouds: {cloudy} {len(cloudy)}\")\n",
    "print(f\"wind speed: {windspeed} {len(windspeed)}\")\n",
    "print(f\"date: {dt} {len(dt)}\")\n",
    "print(f\"cityname: {cityname} {len(cityname)}\")"
   ]
  },
  {
   "cell_type": "code",
   "execution_count": null,
   "metadata": {},
   "outputs": [],
   "source": [
    "weather_data = {\"city\":cityname,\"latitude\":lat,\"longitude\":lon,\"date\":dt,\"temperature\": temp,\"humidity\":humidity,\"cloudiness\":cloudy,\"windspeed\":windspeed}\n",
    "weather_data = pd.DataFrame(weather_data)\n",
    "weather_data"
   ]
  },
  {
   "cell_type": "code",
   "execution_count": null,
   "metadata": {},
   "outputs": [],
   "source": [
    "plt.scatter(weather_data[\"latitude\"], weather_data[\"temperature\"], marker=\"o\")\n",
    "plt.title(\"Temperature in World Cities\")\n",
    "plt.ylabel(\"Temperature (Farenheight)\")\n",
    "plt.xlabel(\"Latitude\")\n",
    "plt.grid(True)\n",
    "plt.savefig(\"TempInWorldCities.png\")\n",
    "plt.show()"
   ]
  },
  {
   "cell_type": "code",
   "execution_count": null,
   "metadata": {},
   "outputs": [],
   "source": [
    "\n",
    "#Create DataFrame and set variables\n",
    "\n",
    "cities_df = pd.DataFrame({'City': city_name,\n",
    "                          'Latitude': lat,\n",
    "                          'Temperature': temp,\n",
    "                          'Humidity': hum,\n",
    "                          'Cloudiness': cloud,\n",
    "                          'Wind Speed': windsp\n",
    "                         })\n",
    "cities_df"
   ]
  },
  {
   "cell_type": "markdown",
   "metadata": {},
   "source": [
    "### Convert Raw Data to DataFrame\n",
    "* Export the city data into a .csv.\n",
    "* Display the DataFrame"
   ]
  },
  {
   "cell_type": "code",
   "execution_count": null,
   "metadata": {},
   "outputs": [],
   "source": [
    "weather_data = {\"city\":cityname,\"latitude\":lat,\"longitude\":lon,\"date\":dt,\"temperature\": temp,\"humidity\":humidity,\"cloudiness\":cloudy,\"windspeed\":windspeed}\n",
    "weather_data = pd.DataFrame(weather_data)\n",
    "weather_data"
   ]
  },
  {
   "cell_type": "code",
   "execution_count": null,
   "metadata": {},
   "outputs": [],
   "source": [
    "export_csv = weather_data.to_csv (r'C:\\Users\\johar\\Desktop\\export_dataframe.csv', index = None, header=True)\n",
    "\n"
   ]
  },
  {
   "cell_type": "markdown",
   "metadata": {},
   "source": [
    "### Plotting the Data\n",
    "* Use proper labeling of the plots using plot titles (including date of analysis) and axes labels.\n",
    "* Save the plotted figures as .pngs."
   ]
  },
  {
   "cell_type": "markdown",
   "metadata": {},
   "source": [
    "#### Latitude vs. Temperature Plot"
   ]
  },
  {
   "cell_type": "code",
   "execution_count": null,
   "metadata": {},
   "outputs": [],
   "source": [
    "plt.scatter(weather_data[\"latitude\"], weather_data[\"temperature\"], marker=\"o\")\n",
    "plt.title(\"Temperature in World Cities\")\n",
    "plt.ylabel(\"Temperature (Farenheight)\")\n",
    "plt.xlabel(\"Latitude\")\n",
    "plt.grid(True)\n",
    "plt.savefig(\"TempInWorldCities.png\")\n",
    "plt.show()"
   ]
  },
  {
   "cell_type": "markdown",
   "metadata": {},
   "source": [
    "#### Latitude vs. Humidity Plot"
   ]
  },
  {
   "cell_type": "code",
   "execution_count": null,
   "metadata": {},
   "outputs": [],
   "source": [
    "plt.scatter(weather_data[\"latitude\"], weather_data[\"humidity\"], marker=\"o\")\n",
    "plt.title(\"Humidity in World Cities\")\n",
    "plt.ylabel(\"humidity\")\n",
    "plt.xlabel(\"Latitude\")\n",
    "plt.grid(True)\n",
    "plt.savefig(\"HumidityInWorldCities.png\")\n",
    "plt.show()"
   ]
  },
  {
   "cell_type": "markdown",
   "metadata": {},
   "source": [
    "#### Latitude vs. Cloudiness Plot"
   ]
  },
  {
   "cell_type": "code",
   "execution_count": null,
   "metadata": {},
   "outputs": [],
   "source": [
    "plt.scatter(weather_data[\"latitude\"], weather_data[\"cloudiness\"], marker=\"o\")\n",
    "plt.title(\"Cloudiness in World Cities\")\n",
    "plt.ylabel(\"cloudiness\")\n",
    "plt.xlabel(\"Latitude\")\n",
    "plt.grid(True)\n",
    "plt.savefig(\"CloudinessInWorldCities.png\")\n",
    "plt.show()"
   ]
  },
  {
   "cell_type": "markdown",
   "metadata": {},
   "source": [
    "#### Latitude vs. Wind Speed Plot"
   ]
  },
  {
   "cell_type": "code",
   "execution_count": null,
   "metadata": {},
   "outputs": [],
   "source": [
    "plt.scatter(weather_data[\"latitude\"], weather_data[\"windspeed\"], marker=\"o\")\n",
    "plt.title(\"Wind Speed in World Cities\")\n",
    "plt.ylabel(\"wind speed\")\n",
    "plt.xlabel(\"Latitude\")\n",
    "plt.grid(True)\n",
    "plt.savefig(\"WindSpeedInWorldCities.png\")\n",
    "plt.show()"
   ]
  },
  {
   "cell_type": "code",
   "execution_count": null,
   "metadata": {},
   "outputs": [],
   "source": []
  }
 ],
 "metadata": {
  "anaconda-cloud": {},
  "kernel_info": {
   "name": "python3"
  },
  "kernelspec": {
   "display_name": "Python 3",
   "language": "python",
   "name": "python3"
  },
  "language_info": {
   "codemirror_mode": {
    "name": "ipython",
    "version": 3
   },
   "file_extension": ".py",
   "mimetype": "text/x-python",
   "name": "python",
   "nbconvert_exporter": "python",
   "pygments_lexer": "ipython3",
   "version": "3.7.3"
  },
  "nteract": {
   "version": "0.12.3"
  }
 },
 "nbformat": 4,
 "nbformat_minor": 2
}
