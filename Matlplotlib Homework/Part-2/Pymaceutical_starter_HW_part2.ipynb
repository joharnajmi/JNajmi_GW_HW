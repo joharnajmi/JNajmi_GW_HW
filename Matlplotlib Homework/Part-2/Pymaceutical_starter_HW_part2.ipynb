{
 "cells": [
  {
   "cell_type": "code",
   "execution_count": null,
   "metadata": {},
   "outputs": [],
   "source": [
    "# Dependencies and Setup\n",
    "%matplotlib inline\n",
    "import matplotlib.pyplot as plt\n",
    "import pandas as pd\n",
    "import numpy as np\n",
    "\n",
    "# Hide warning messages in notebook\n",
    "import warnings\n",
    "warnings.filterwarnings('ignore')"
   ]
  },
  {
   "cell_type": "code",
   "execution_count": null,
   "metadata": {},
   "outputs": [],
   "source": [
    "mouse_drug_data_to_load = \"data/mouse_drug_data.csv\"\n",
    "clinical_trial_data_to_load = \"data/clinicaltrial_data.csv\""
   ]
  },
  {
   "cell_type": "code",
   "execution_count": null,
   "metadata": {},
   "outputs": [],
   "source": [
    "#read csv files\n",
    "mousedf = pd.read_csv(mouse_drug_data_to_load)\n",
    "clinicaldf = pd.read_csv(clinical_trial_data_to_load)\n",
    "#merge on Mouse ID\n",
    "merged = pd.merge(mousedf, clinicaldf, on=\"Mouse ID\")\n",
    "merged.head()\n",
    "\n",
    "#create list of unique time values\n",
    "timelist = merged[\"Timepoint\"]\n",
    "timelist = timelist.drop_duplicates()\n",
    "timelist = list(timelist)"
   ]
  },
  {
   "cell_type": "code",
   "execution_count": null,
   "metadata": {},
   "outputs": [],
   "source": [
    "#group drug and timepoint and average the values in tumor volume(mm3)\n",
    "itsnotatuma = merged.groupby([\"Drug\",\"Timepoint\"]).mean()\n",
    "dfmean = itsnotatuma[\"Tumor Volume (mm3)\"]\n",
    "#reset index and set back to a dataframe\n",
    "dfmean = dfmean.reset_index()\n",
    "dfmean = pd.DataFrame(dfmean)\n",
    "dfmean.head()"
   ]
  },
  {
   "cell_type": "code",
   "execution_count": null,
   "metadata": {},
   "outputs": [],
   "source": [
    "#calculate standard error\n",
    "itsnotatuma = merged.groupby([\"Drug\",\"Timepoint\"]).sem()\n",
    "dfsem = itsnotatuma[\"Tumor Volume (mm3)\"]\n",
    "dfsem = dfsem.reset_index()\n",
    "dfsem = pd.DataFrame(dfsem)\n",
    "dfsem.head()"
   ]
  },
  {
   "cell_type": "code",
   "execution_count": null,
   "metadata": {},
   "outputs": [],
   "source": [
    "#use pivot method to pivot for the averages\n",
    "dfmunging = dfmean.pivot(index=\"Timepoint\", columns=\"Drug\", values=\"Tumor Volume (mm3)\")\n",
    "dfmunging.head()"
   ]
  },
  {
   "cell_type": "code",
   "execution_count": null,
   "metadata": {},
   "outputs": [],
   "source": [
    "#use pivot method to pivot for the sems\n",
    "dfmungingsem = dfsem.pivot(index=\"Timepoint\", columns=\"Drug\", values=\"Tumor Volume (mm3)\")\n",
    "dfmungingsem.head()"
   ]
  },
  {
   "cell_type": "code",
   "execution_count": null,
   "metadata": {},
   "outputs": [],
   "source": [
    "#set drugs to be analyzed, colors for the plots, and markers\n",
    "drugs = [\"Capomulin\",\"Infubinol\",\"Ketapril\",\"Placebo\"]\n",
    "colors = [\"red\", \"blue\",\"darkgreen\",\"black\"]\n",
    "markers = [\"o\",\"^\",\"s\",\"d\"]\n",
    "\n",
    "#use for loop to grab errorbar components \n",
    "for i in drugs:\n",
    "    #set yerror variable to the dfmungingsem dataframe index of the drugs list\n",
    "    yerror = dfmungingsem[i]\n",
    "    #grab the index property to reference in loop later\n",
    "    index = drugs.index(i)\n",
    "    #plot errorbar using the timelist we created earlier, the y axis will be the dataframe values, and errors will be \n",
    "    #reference the sem dataframe\n",
    "    plt.errorbar(timelist, dfmunging[i],yerr=yerror, marker=markers[index], color=colors[index], linestyle=\":\", alpha=.85)\n",
    "\n",
    "#setup chart attributes\n",
    "plt.legend(labels=drugs, loc=\"best\")  \n",
    "plt.ylabel(\"Tumor Volume(mm3)\")\n",
    "plt.xlabel(\"Time(Days)\")\n",
    "plt.title(\"Tumor Resonse to Treatment\")\n",
    "plt.xlim(-2,47)\n",
    "plt.ylim(33,75)\n",
    "plt.grid()\n",
    "#save figure to images folder\n",
    "plt.savefig(\"Images/TumorResonsetoTreatment.png\")\n",
    "plt.show()"
   ]
  },
  {
   "cell_type": "code",
   "execution_count": null,
   "metadata": {},
   "outputs": [],
   "source": [
    "metasdfavg = merged[[\"Drug\",\"Timepoint\", \"Metastatic Sites\"]]\n",
    "metasdfavg = metasdfavg.groupby([\"Drug\",\"Timepoint\"]).mean()\n",
    "metasdfavg.head()"
   ]
  },
  {
   "cell_type": "code",
   "execution_count": null,
   "metadata": {},
   "outputs": [],
   "source": [
    "metasdfsem = merged[[\"Drug\",\"Timepoint\", \"Metastatic Sites\"]]\n",
    "metasdfsem = metasdfsem.groupby([\"Drug\",\"Timepoint\"]).sem()\n",
    "metasdfsem.head()"
   ]
  },
  {
   "cell_type": "code",
   "execution_count": null,
   "metadata": {},
   "outputs": [],
   "source": [
    "metasdfavg = metasdfavg.reset_index()\n",
    "metasmungavg = metasdfavg.pivot(index=\"Timepoint\", columns=\"Drug\", values=\"Metastatic Sites\")\n",
    "metasmungavg"
   ]
  },
  {
   "cell_type": "code",
   "execution_count": null,
   "metadata": {},
   "outputs": [],
   "source": [
    "metasdfsem = metasdfsem.reset_index()\n",
    "metasdfmungsem = metasdfsem.pivot(index=\"Timepoint\", columns=\"Drug\", values=\"Metastatic Sites\")\n",
    "metasdfmungsem"
   ]
  },
  {
   "cell_type": "code",
   "execution_count": null,
   "metadata": {},
   "outputs": [],
   "source": [
    "#create loop to reference the drugs list\n",
    "for i in drugs:\n",
    "    yerror = metasdfmungsem[i]\n",
    "    index=drugs.index(i)\n",
    "    plt.errorbar(timelist, metasmungavg[i],yerr=yerror, marker=markers[index], color=colors[index], linestyle=\":\", alpha=.85)\n",
    "    plt.legend(labels=drugs, loc=\"best\")  \n",
    "\n",
    "#setup chart attributes\n",
    "plt.ylabel(\"Metastic Sites\")\n",
    "plt.xlabel(\"Treatment Duration (Days)\")\n",
    "plt.title(\"Metastic Spread During Treatment\")\n",
    "plt.savefig(\"Images/TumorResonsetoTreatment.png\")\n",
    "plt.grid()\n",
    "plt.show()"
   ]
  },
  {
   "cell_type": "code",
   "execution_count": null,
   "metadata": {},
   "outputs": [],
   "source": [
    "mouse_survival = pd.pivot_table(merged, values=\"Tumor Volume (mm3)\", columns=[\"Drug\"], index=[\"Timepoint\"], aggfunc='count')\n",
    "mouse_survival"
   ]
  },
  {
   "cell_type": "code",
   "execution_count": null,
   "metadata": {},
   "outputs": [],
   "source": [
    "for i in drugs:\n",
    "    yerror = mouse_survival[i]\n",
    "    index=drugs.index(i)\n",
    "    plt.plot(timelist, mouse_survival[i], marker=markers[index], color=colors[index], linestyle=\":\", alpha=.85)\n",
    "    plt.legend(labels=drugs, loc=\"best\")  \n",
    "    \n",
    "plt.ylabel(\"Survival Rate (%)\")\n",
    "plt.xlabel(\"Time (Days)\")\n",
    "plt.title(\"Survival During Treatment\")\n",
    "plt.savefig(\"Images/Survival During Treatment.png\")\n",
    "plt.grid()\n",
    "plt.show()"
   ]
  },
  {
   "cell_type": "code",
   "execution_count": null,
   "metadata": {},
   "outputs": [],
   "source": [
    "#Create DataFrame with drugs that need to be tested\n",
    "dfmungingC = dfmunging[drugs]\n",
    "#empty list to hold appended values from calculation\n",
    "y = []\n",
    "\n",
    "#loop through the dataframe for each drug and find the percent change of the first and last value\n",
    "for i in dfmungingC:\n",
    "    y.append((dfmungingC[i].iloc[-1] - dfmungingC[i].iloc[0]) / dfmungingC[i].iloc[0] *100)\n",
    "\n",
    "#set variable for x locations\n",
    "x = np.arange(len(y))\n",
    "#list comprehension to determine if bar is green or red\n",
    "colors = [\"green\" if item < 0 else \"red\" for item in y]\n",
    "\n",
    "#chart attributes\n",
    "plt.ylabel(\"% Tumor Volume Change\")\n",
    "plt.title(\"Tumor Change Over 45 Day Treatment\")\n",
    "plt.bar(x, y, color=colors)\n",
    "plt.axhline(linewidth=1, color='black', y=0)\n",
    "plt.xticks(x, drugs)\n",
    "\n",
    "#loop through values in the y list to determine where label is placed\n",
    "count = 0\n",
    "for x in y:\n",
    "    if x < 0:\n",
    "        ybar = -5.5\n",
    "    else:\n",
    "        ybar = 2\n",
    "    index=y.index(x)\n",
    "    plt.text(count, ybar, str(round(y[index],1)) + \"%\", ha='center', color='white')\n",
    "    count += 1\n",
    "    \n",
    "plt.savefig(\"Images/Tumor Change Over 45 Day Treatment.png\")\n",
    "plt.show()"
   ]
  },
  {
   "cell_type": "code",
   "execution_count": null,
   "metadata": {},
   "outputs": [],
   "source": []
  }
 ],
 "metadata": {
  "kernelspec": {
   "display_name": "Python 3",
   "language": "python",
   "name": "python3"
  },
  "language_info": {
   "codemirror_mode": {
    "name": "ipython",
    "version": 3
   },
   "file_extension": ".py",
   "mimetype": "text/x-python",
   "name": "python",
   "nbconvert_exporter": "python",
   "pygments_lexer": "ipython3",
   "version": "3.7.3"
  }
 },
 "nbformat": 4,
 "nbformat_minor": 2
}
